{
 "cells": [
  {
   "cell_type": "markdown",
   "metadata": {},
   "source": [
    "# Pandas Series"
   ]
  },
  {
   "cell_type": "markdown",
   "metadata": {},
   "source": [
    "# Class No 1(Creation)"
   ]
  },
  {
   "cell_type": "code",
   "execution_count": null,
   "metadata": {},
   "outputs": [],
   "source": [
    "import pandas as pd"
   ]
  },
  {
   "cell_type": "code",
   "execution_count": 49,
   "metadata": {},
   "outputs": [],
   "source": [
    "firstList = pd.Series([4,8,2,3,6,6,6,])"
   ]
  },
  {
   "cell_type": "code",
   "execution_count": 6,
   "metadata": {},
   "outputs": [
    {
     "name": "stdout",
     "output_type": "stream",
     "text": [
      "0    4\n",
      "1    8\n",
      "2    2\n",
      "3    3\n",
      "4    6\n",
      "5    6\n",
      "6    6\n",
      "dtype: int64\n"
     ]
    }
   ],
   "source": [
    "print(firstList)\n"
   ]
  },
  {
   "cell_type": "code",
   "execution_count": 47,
   "metadata": {},
   "outputs": [
    {
     "data": {
      "text/plain": [
       "0    4\n",
       "1    8\n",
       "2    2\n",
       "3    3\n",
       "4    6\n",
       "5    6\n",
       "6    6\n",
       "dtype: int64"
      ]
     },
     "execution_count": 47,
     "metadata": {},
     "output_type": "execute_result"
    }
   ],
   "source": [
    "firstList"
   ]
  },
  {
   "cell_type": "markdown",
   "metadata": {},
   "source": [
    "# Class No 2 (Index)"
   ]
  },
  {
   "cell_type": "code",
   "execution_count": 27,
   "metadata": {},
   "outputs": [],
   "source": [
    "sales = pd.Series([180,122,1220,362,623362,6236,])"
   ]
  },
  {
   "cell_type": "code",
   "execution_count": 28,
   "metadata": {},
   "outputs": [
    {
     "data": {
      "text/plain": [
       "array([   180,    122,   1220,    362, 623362,   6236])"
      ]
     },
     "execution_count": 28,
     "metadata": {},
     "output_type": "execute_result"
    }
   ],
   "source": [
    "sales.values"
   ]
  },
  {
   "cell_type": "code",
   "execution_count": null,
   "metadata": {},
   "outputs": [],
   "source": []
  },
  {
   "cell_type": "code",
   "execution_count": 29,
   "metadata": {},
   "outputs": [
    {
     "data": {
      "text/plain": [
       "RangeIndex(start=0, stop=6, step=1)"
      ]
     },
     "execution_count": 29,
     "metadata": {},
     "output_type": "execute_result"
    }
   ],
   "source": [
    "sales.index"
   ]
  },
  {
   "cell_type": "code",
   "execution_count": 31,
   "metadata": {},
   "outputs": [
    {
     "name": "stdout",
     "output_type": "stream",
     "text": [
      "[   180    122   1220    362 623362   6236]\n",
      "RangeIndex(start=0, stop=6, step=1)\n"
     ]
    }
   ],
   "source": [
    "print(sales.values)\n",
    "print(sales.index)"
   ]
  },
  {
   "cell_type": "code",
   "execution_count": 44,
   "metadata": {},
   "outputs": [],
   "source": [
    "saleMth = pd.Series([120,85,1,23,6] , index = [\"jan\",\"feb\",\"march\",\"aprtl\",\"maj\"])"
   ]
  },
  {
   "cell_type": "code",
   "execution_count": 50,
   "metadata": {},
   "outputs": [
    {
     "name": "stdout",
     "output_type": "stream",
     "text": [
      "jan      120\n",
      "feb       85\n",
      "march      1\n",
      "aprtl     23\n",
      "maj        6\n",
      "dtype: int64\n"
     ]
    }
   ],
   "source": [
    "print(saleMth)"
   ]
  },
  {
   "cell_type": "markdown",
   "metadata": {},
   "source": [
    "# Class No 3 (Assign Name and values)"
   ]
  },
  {
   "cell_type": "code",
   "execution_count": 53,
   "metadata": {},
   "outputs": [
    {
     "name": "stdout",
     "output_type": "stream",
     "text": [
      "[120  85   1  23   6]\n",
      "Index(['jan', 'feb', 'march', 'aprtl', 'maj'], dtype='object')\n"
     ]
    }
   ],
   "source": [
    "print(saleMth.values)\n",
    "print(saleMth.index)"
   ]
  },
  {
   "cell_type": "code",
   "execution_count": 56,
   "metadata": {},
   "outputs": [],
   "source": [
    "saleMth_exp_2 = pd.Series([120,85,1,23,6] , index = [\"jan\",\"feb\",\"march\",\"aprtl\",\"maj\"], name = \"This data is not about the whole months\")"
   ]
  },
  {
   "cell_type": "code",
   "execution_count": 58,
   "metadata": {},
   "outputs": [
    {
     "name": "stdout",
     "output_type": "stream",
     "text": [
      "jan      120\n",
      "feb       85\n",
      "march      1\n",
      "aprtl     23\n",
      "maj        6\n",
      "Name: This data is not about the whole months, dtype: int64\n"
     ]
    }
   ],
   "source": [
    "print(saleMth_exp_2 )"
   ]
  },
  {
   "cell_type": "code",
   "execution_count": 64,
   "metadata": {},
   "outputs": [
    {
     "name": "stdout",
     "output_type": "stream",
     "text": [
      "[120  85   1  23   6]\n",
      "Index(['jan', 'feb', 'march', 'aprtl', 'maj'], dtype='object')\n",
      "<bound method IndexOpsMixin.value_counts of jan      120\n",
      "feb       85\n",
      "march      1\n",
      "aprtl     23\n",
      "maj        6\n",
      "Name: This data is not about the whole months, dtype: int64>\n"
     ]
    }
   ],
   "source": [
    "print(saleMth_exp_2.values) \n",
    "print(saleMth_exp_2.index) \n",
    "print(saleMth_exp_2.value_counts)"
   ]
  },
  {
   "cell_type": "markdown",
   "metadata": {},
   "source": [
    "# Class No 4,5,6 (DATA Finding and Allocations)\n",
    "#<<Set a small Canteen Data for the Practices.>>"
   ]
  },
  {
   "cell_type": "code",
   "execution_count": 65,
   "metadata": {},
   "outputs": [],
   "source": [
    "string = pd.Series([30,25,33,31,28,26,1],\n",
    "                   index=['Mondey','Tuesday','Wednesday','Thursday','Firday','Saturday','Sunday'])"
   ]
  },
  {
   "cell_type": "code",
   "execution_count": 67,
   "metadata": {},
   "outputs": [
    {
     "data": {
      "text/plain": [
       "Mondey       30\n",
       "Tuesday      25\n",
       "Wednesday    33\n",
       "Thursday     31\n",
       "Firday       28\n",
       "Saturday     26\n",
       "Sunday        1\n",
       "dtype: int64"
      ]
     },
     "execution_count": 67,
     "metadata": {},
     "output_type": "execute_result"
    }
   ],
   "source": [
    "string"
   ]
  },
  {
   "cell_type": "code",
   "execution_count": 68,
   "metadata": {},
   "outputs": [
    {
     "data": {
      "text/plain": [
       "Mondey       30\n",
       "Tuesday      25\n",
       "Wednesday    33\n",
       "Thursday     31\n",
       "Firday       28\n",
       "Saturday     26\n",
       "Sunday        1\n",
       "dtype: int64"
      ]
     },
     "execution_count": 68,
     "metadata": {},
     "output_type": "execute_result"
    }
   ],
   "source": [
    "string\n"
   ]
  },
  {
   "cell_type": "code",
   "execution_count": 81,
   "metadata": {},
   "outputs": [
    {
     "data": {
      "text/plain": [
       "<bound method IndexOpsMixin.value_counts of Mondey       30\n",
       "Tuesday      25\n",
       "Wednesday    33\n",
       "Thursday     31\n",
       "Firday       28\n",
       "Saturday     26\n",
       "Sunday        1\n",
       "dtype: int64>"
      ]
     },
     "execution_count": 81,
     "metadata": {},
     "output_type": "execute_result"
    }
   ],
   "source": [
    "string.value_counts"
   ]
  },
  {
   "cell_type": "code",
   "execution_count": null,
   "metadata": {},
   "outputs": [],
   "source": [
    "string = pd.Series([30,25,33,31,28,26,1],\n",
    "                   index=['Mondey','Tuesday','Wednesday','Thursday','Firday','Saturday','Sunday'])"
   ]
  },
  {
   "cell_type": "code",
   "execution_count": 104,
   "metadata": {},
   "outputs": [],
   "source": [
    "final_reasult = string[[5,2]]"
   ]
  },
  {
   "cell_type": "code",
   "execution_count": 105,
   "metadata": {},
   "outputs": [
    {
     "name": "stdout",
     "output_type": "stream",
     "text": [
      "Saturday     26\n",
      "Wednesday    33\n",
      "dtype: int64\n"
     ]
    }
   ],
   "source": [
    "print(final_reasult)\n"
   ]
  },
  {
   "cell_type": "code",
   "execution_count": 110,
   "metadata": {},
   "outputs": [
    {
     "name": "stdout",
     "output_type": "stream",
     "text": [
      "Wednesday    33\n",
      "dtype: int64\n"
     ]
    }
   ],
   "source": [
    "print(final_reasult[final_reasult>30])"
   ]
  },
  {
   "cell_type": "markdown",
   "metadata": {},
   "source": [
    "# Class No 7 (Arathmatic Operations)"
   ]
  },
  {
   "cell_type": "code",
   "execution_count": 112,
   "metadata": {},
   "outputs": [
    {
     "data": {
      "text/plain": [
       "Mondey       30\n",
       "Tuesday      25\n",
       "Wednesday    33\n",
       "Thursday     31\n",
       "Firday       28\n",
       "Saturday     26\n",
       "Sunday        1\n",
       "dtype: int64"
      ]
     },
     "execution_count": 112,
     "metadata": {},
     "output_type": "execute_result"
    }
   ],
   "source": [
    "string "
   ]
  },
  {
   "cell_type": "code",
   "execution_count": 113,
   "metadata": {},
   "outputs": [
    {
     "data": {
      "text/plain": [
       "Mondey       60\n",
       "Tuesday      50\n",
       "Wednesday    66\n",
       "Thursday     62\n",
       "Firday       56\n",
       "Saturday     52\n",
       "Sunday        2\n",
       "dtype: int64"
      ]
     },
     "execution_count": 113,
     "metadata": {},
     "output_type": "execute_result"
    }
   ],
   "source": [
    "string * 2\n"
   ]
  },
  {
   "cell_type": "code",
   "execution_count": 114,
   "metadata": {},
   "outputs": [
    {
     "data": {
      "text/plain": [
       "Mondey       32\n",
       "Tuesday      27\n",
       "Wednesday    35\n",
       "Thursday     33\n",
       "Firday       30\n",
       "Saturday     28\n",
       "Sunday        3\n",
       "dtype: int64"
      ]
     },
     "execution_count": 114,
     "metadata": {},
     "output_type": "execute_result"
    }
   ],
   "source": [
    "string +2"
   ]
  },
  {
   "cell_type": "markdown",
   "metadata": {},
   "source": [
    "# Class No  8,9,10(Panads with Numpy)"
   ]
  },
  {
   "cell_type": "code",
   "execution_count": 115,
   "metadata": {},
   "outputs": [],
   "source": [
    "import numpy as np\n"
   ]
  },
  {
   "cell_type": "code",
   "execution_count": 117,
   "metadata": {},
   "outputs": [],
   "source": [
    "letdata = np.array([9,8,7,4,5,6,3,2,1] )\n",
    "indexnp = np.array(['a','b','c','d','f','e','f','g','h'])"
   ]
  },
  {
   "cell_type": "code",
   "execution_count": 118,
   "metadata": {},
   "outputs": [],
   "source": [
    "finalSeries = pd.Series(letdata, index = indexnp) "
   ]
  },
  {
   "cell_type": "code",
   "execution_count": 119,
   "metadata": {},
   "outputs": [
    {
     "name": "stdout",
     "output_type": "stream",
     "text": [
      "a    9\n",
      "b    8\n",
      "c    7\n",
      "d    4\n",
      "f    5\n",
      "e    6\n",
      "f    3\n",
      "g    2\n",
      "h    1\n",
      "dtype: int64\n"
     ]
    }
   ],
   "source": [
    "print\n"
   ]
  },
  {
   "cell_type": "code",
   "execution_count": 121,
   "metadata": {},
   "outputs": [
    {
     "data": {
      "text/plain": [
       "True"
      ]
     },
     "execution_count": 121,
     "metadata": {},
     "output_type": "execute_result"
    }
   ],
   "source": [
    "\"c\" in indexnp\n"
   ]
  },
  {
   "cell_type": "markdown",
   "metadata": {},
   "source": [
    "# Class No 11 (Pandas With dactioniers)"
   ]
  },
  {
   "cell_type": "code",
   "execution_count": 124,
   "metadata": {},
   "outputs": [],
   "source": [
    "data_in_DIC = {'Punjab' : 12000,'KPK' : 5820,'Sindh' : 8520,'Blochistan': 8421}"
   ]
  },
  {
   "cell_type": "code",
   "execution_count": 126,
   "metadata": {},
   "outputs": [],
   "source": [
    "taxdata=pd.Series(data_in_DIC)"
   ]
  },
  {
   "cell_type": "code",
   "execution_count": 127,
   "metadata": {},
   "outputs": [
    {
     "name": "stdout",
     "output_type": "stream",
     "text": [
      "Punjab        12000\n",
      "KPK            5820\n",
      "Sindh          8520\n",
      "Blochistan     8421\n",
      "dtype: int64\n"
     ]
    }
   ],
   "source": [
    "print(taxdata)"
   ]
  },
  {
   "cell_type": "code",
   "execution_count": 129,
   "metadata": {},
   "outputs": [
    {
     "name": "stdout",
     "output_type": "stream",
     "text": [
      "Index(['Punjab', 'KPK', 'Sindh', 'Blochistan'], dtype='object')\n"
     ]
    }
   ],
   "source": [
    "print(taxdata.index)"
   ]
  },
  {
   "cell_type": "code",
   "execution_count": 130,
   "metadata": {},
   "outputs": [
    {
     "name": "stdout",
     "output_type": "stream",
     "text": [
      "[12000  5820  8520  8421]\n"
     ]
    }
   ],
   "source": [
    "print(taxdata.values)"
   ]
  },
  {
   "cell_type": "markdown",
   "metadata": {},
   "source": [
    "# Class No 12 (Change Order)"
   ]
  },
  {
   "cell_type": "code",
   "execution_count": 131,
   "metadata": {},
   "outputs": [
    {
     "name": "stdout",
     "output_type": "stream",
     "text": [
      "Sindh          8520\n",
      "KPK            5820\n",
      "Punjab        12000\n",
      "Blochistan     8421\n",
      "dtype: int64\n"
     ]
    }
   ],
   "source": [
    "data_in_DIC = {'Punjab' : 12000,'KPK' : 5820,'Sindh' : 8520,'Blochistan': 8421}\n",
    "taxdata=pd.Series(data_in_DIC, index = ['Sindh', 'KPK', 'Punjab', 'Blochistan'])\n",
    "print(taxdata)"
   ]
  },
  {
   "cell_type": "markdown",
   "metadata": {},
   "source": [
    "# Class No 13(Null Value Handeling)"
   ]
  },
  {
   "cell_type": "code",
   "execution_count": 133,
   "metadata": {},
   "outputs": [
    {
     "name": "stdout",
     "output_type": "stream",
     "text": [
      "Sindh          8520.0\n",
      "KPK            5820.0\n",
      "Punjab        12000.0\n",
      "Blochistan     8421.0\n",
      "GB                NaN\n",
      "dtype: float64\n"
     ]
    }
   ],
   "source": [
    "data_in_DIC = {'Punjab' : 12000,'KPK' : 5820,'Sindh' : 8520,'Blochistan': 8421}\n",
    "taxdata=pd.Series(data_in_DIC, index = ['Sindh', 'KPK', 'Punjab', 'Blochistan','GB'])\n",
    "print(taxdata)    "
   ]
  },
  {
   "cell_type": "code",
   "execution_count": 136,
   "metadata": {},
   "outputs": [
    {
     "name": "stdout",
     "output_type": "stream",
     "text": [
      "Sindh          8520.0\n",
      "KPK            5820.0\n",
      "Punjab        12000.0\n",
      "Blochistan     8421.0\n",
      "GB                NaN\n",
      "dtype: float64\n",
      "Sindh         False\n",
      "KPK           False\n",
      "Punjab        False\n",
      "Blochistan    False\n",
      "GB             True\n",
      "dtype: bool\n"
     ]
    }
   ],
   "source": [
    "data_in_DIC = {'Punjab' : 12000,'KPK' : 5820,'Sindh' : 8520,'Blochistan': 8421}\n",
    "taxdata=pd.Series(data_in_DIC, index = ['Sindh', 'KPK', 'Punjab', 'Blochistan','GB'])\n",
    "print(taxdata)\n",
    "print(pd.isnull(taxdata))\n"
   ]
  },
  {
   "cell_type": "markdown",
   "metadata": {},
   "source": [
    "# Class No 14 Last Series_Class(Null Value and name handeling)"
   ]
  },
  {
   "cell_type": "code",
   "execution_count": 145,
   "metadata": {},
   "outputs": [],
   "source": [
    "taxdata.name=\"name of Provinces\"\n",
    "taxdata.index.name = \"Rupee in Billopns\""
   ]
  },
  {
   "cell_type": "code",
   "execution_count": 143,
   "metadata": {},
   "outputs": [
    {
     "name": "stdout",
     "output_type": "stream",
     "text": [
      "Rupee in Billopns\n",
      "Sindh          8520.0\n",
      "KPK            5820.0\n",
      "Punjab        12000.0\n",
      "Blochistan     8421.0\n",
      "GB                NaN\n",
      "Name: name of Provinces, dtype: float64\n"
     ]
    }
   ],
   "source": [
    "print(taxdata)"
   ]
  }
 ],
 "metadata": {
  "kernelspec": {
   "display_name": "Python 3",
   "language": "python",
   "name": "python3"
  },
  "language_info": {
   "codemirror_mode": {
    "name": "ipython",
    "version": 3
   },
   "file_extension": ".py",
   "mimetype": "text/x-python",
   "name": "python",
   "nbconvert_exporter": "python",
   "pygments_lexer": "ipython3",
   "version": "3.8.5"
  }
 },
 "nbformat": 4,
 "nbformat_minor": 4
}
