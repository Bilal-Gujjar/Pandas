{
 "cells": [
  {
   "cell_type": "markdown",
   "metadata": {},
   "source": [
    "# DataFrame class No 1 ,2 DataFrame"
   ]
  },
  {
   "cell_type": "code",
   "execution_count": 88,
   "metadata": {},
   "outputs": [],
   "source": [
    "import pandas as pd\n",
    "import numpy as np"
   ]
  },
  {
   "cell_type": "code",
   "execution_count": 18,
   "metadata": {},
   "outputs": [
    {
     "name": "stdout",
     "output_type": "stream",
     "text": [
      "0    12\n",
      "1    36\n",
      "2    12\n",
      "3    96\n",
      "4    25\n",
      "dtype: int64 0    18\n",
      "1    46\n",
      "2    62\n",
      "3    86\n",
      "dtype: int64\n"
     ]
    }
   ],
   "source": [
    "#fruite list\n",
    "list1 = pd.Series([12,36,12,96,25])\n",
    "list2 = pd.Series([18,46,62,86])\n",
    "print(list1,list2)\n"
   ]
  },
  {
   "cell_type": "code",
   "execution_count": 28,
   "metadata": {},
   "outputs": [
    {
     "name": "stdout",
     "output_type": "stream",
     "text": [
      "   Apples  Oranges\n",
      "0      12     18.0\n",
      "1      36     46.0\n",
      "2      12     62.0\n",
      "3      96     86.0\n",
      "4      25      NaN\n"
     ]
    }
   ],
   "source": [
    "datafrm = {\"Apples\": list1,\"Oranges\": list2}\n",
    "findatafrm =pd.DataFrame(datafrm)\n",
    "\n",
    "print(findatafrm)"
   ]
  },
  {
   "cell_type": "markdown",
   "metadata": {},
   "source": [
    "# CLass NO 3 DataFrame indexs "
   ]
  },
  {
   "cell_type": "code",
   "execution_count": 24,
   "metadata": {},
   "outputs": [
    {
     "name": "stdout",
     "output_type": "stream",
     "text": [
      "    State of Pakistan  Population  Years of Population\n",
      "1st            Punjab         220                 2000\n",
      "2nd             Sindh         120                 2004\n",
      "3rd               KPK          90                 2006\n",
      "4th        Blochistan          60                 2009\n",
      "5th  Gilgit Baltistan          12                 2006\n"
     ]
    }
   ],
   "source": [
    "dicData = {\n",
    "        'State of Pakistan' : [ 'Punjab','Sindh','KPK','Blochistan','Gilgit Baltistan'],\n",
    "        'Population' : [220,120,90,60,12],\n",
    "        'Years of Population': [2000,2004,2006,2009,2006]              \n",
    "}\n",
    "covFram = pd.DataFrame(dicData,index=['1st','2nd','3rd','4th','5th'])\n",
    "print(covFram)"
   ]
  },
  {
   "cell_type": "code",
   "execution_count": 26,
   "metadata": {},
   "outputs": [
    {
     "name": "stdout",
     "output_type": "stream",
     "text": [
      "  State of Pakistan  Population  Years of Population\n",
      "0            Punjab         220                 2000\n",
      "1             Sindh         120                 2004\n",
      "2               KPK          90                 2006\n",
      "3        Blochistan          60                 2009\n",
      "4  Gilgit Baltistan          12                 2006\n"
     ]
    }
   ],
   "source": [
    "covFram = pd.DataFrame(dicData)\n",
    "print(covFram)"
   ]
  },
  {
   "cell_type": "code",
   "execution_count": 33,
   "metadata": {},
   "outputs": [
    {
     "name": "stdout",
     "output_type": "stream",
     "text": [
      "    State of Pakistan  Population  Years of Population\n",
      "1st            Punjab         220                 2000\n",
      "2nd             Sindh         120                 2004\n",
      "3rd               KPK          90                 2006\n",
      "4th        Blochistan          60                 2009\n",
      "5th  Gilgit Baltistan          12                 2006\n"
     ]
    }
   ],
   "source": [
    "listof = [ 'Punjab','Sindh','KPK','Blochistan','Gilgit Baltistan']\n",
    "pp = [2000,2004,2006,2009,2006] \n",
    "\n",
    "dicData = {\n",
    "        'State of Pakistan' : listof,\n",
    "        'Population' : [220,120,90,60,12],\n",
    "        'Years of Population':     pp         \n",
    "}\n",
    "covFram = pd.DataFrame(dicData,index=['1st','2nd','3rd','4th','5th'])\n",
    "print(covFram)"
   ]
  },
  {
   "cell_type": "markdown",
   "metadata": {},
   "source": [
    "# Class No 4 DataFrame-.head()"
   ]
  },
  {
   "cell_type": "code",
   "execution_count": 31,
   "metadata": {},
   "outputs": [
    {
     "data": {
      "text/html": [
       "<div>\n",
       "<style scoped>\n",
       "    .dataframe tbody tr th:only-of-type {\n",
       "        vertical-align: middle;\n",
       "    }\n",
       "\n",
       "    .dataframe tbody tr th {\n",
       "        vertical-align: top;\n",
       "    }\n",
       "\n",
       "    .dataframe thead th {\n",
       "        text-align: right;\n",
       "    }\n",
       "</style>\n",
       "<table border=\"1\" class=\"dataframe\">\n",
       "  <thead>\n",
       "    <tr style=\"text-align: right;\">\n",
       "      <th></th>\n",
       "      <th>State of Pakistan</th>\n",
       "      <th>Population</th>\n",
       "      <th>Years of Population</th>\n",
       "    </tr>\n",
       "  </thead>\n",
       "  <tbody>\n",
       "    <tr>\n",
       "      <th>1st</th>\n",
       "      <td>Punjab</td>\n",
       "      <td>220</td>\n",
       "      <td>2000</td>\n",
       "    </tr>\n",
       "    <tr>\n",
       "      <th>2nd</th>\n",
       "      <td>Sindh</td>\n",
       "      <td>120</td>\n",
       "      <td>2004</td>\n",
       "    </tr>\n",
       "    <tr>\n",
       "      <th>3rd</th>\n",
       "      <td>KPK</td>\n",
       "      <td>90</td>\n",
       "      <td>2006</td>\n",
       "    </tr>\n",
       "    <tr>\n",
       "      <th>4th</th>\n",
       "      <td>Blochistan</td>\n",
       "      <td>60</td>\n",
       "      <td>2009</td>\n",
       "    </tr>\n",
       "    <tr>\n",
       "      <th>5th</th>\n",
       "      <td>Gilgit Baltistan</td>\n",
       "      <td>12</td>\n",
       "      <td>2006</td>\n",
       "    </tr>\n",
       "  </tbody>\n",
       "</table>\n",
       "</div>"
      ],
      "text/plain": [
       "    State of Pakistan  Population  Years of Population\n",
       "1st            Punjab         220                 2000\n",
       "2nd             Sindh         120                 2004\n",
       "3rd               KPK          90                 2006\n",
       "4th        Blochistan          60                 2009\n",
       "5th  Gilgit Baltistan          12                 2006"
      ]
     },
     "execution_count": 31,
     "metadata": {},
     "output_type": "execute_result"
    }
   ],
   "source": [
    "covFram.head()"
   ]
  },
  {
   "cell_type": "code",
   "execution_count": 45,
   "metadata": {},
   "outputs": [
    {
     "name": "stdout",
     "output_type": "stream",
     "text": [
      "     Population  Years of Population State of Pakistan\n",
      "1st         220                 2000            Punjab\n",
      "2nd         120                 2004             Sindh\n",
      "3rd          90                 2006               KPK\n",
      "4th          60                 2009        Blochistan\n",
      "5th          12                 2006  Gilgit Baltistan\n"
     ]
    },
    {
     "data": {
      "text/html": [
       "<div>\n",
       "<style scoped>\n",
       "    .dataframe tbody tr th:only-of-type {\n",
       "        vertical-align: middle;\n",
       "    }\n",
       "\n",
       "    .dataframe tbody tr th {\n",
       "        vertical-align: top;\n",
       "    }\n",
       "\n",
       "    .dataframe thead th {\n",
       "        text-align: right;\n",
       "    }\n",
       "</style>\n",
       "<table border=\"1\" class=\"dataframe\">\n",
       "  <thead>\n",
       "    <tr style=\"text-align: right;\">\n",
       "      <th></th>\n",
       "      <th>Population</th>\n",
       "      <th>Years of Population</th>\n",
       "      <th>State of Pakistan</th>\n",
       "    </tr>\n",
       "  </thead>\n",
       "  <tbody>\n",
       "    <tr>\n",
       "      <th>1st</th>\n",
       "      <td>220</td>\n",
       "      <td>2000</td>\n",
       "      <td>Punjab</td>\n",
       "    </tr>\n",
       "    <tr>\n",
       "      <th>2nd</th>\n",
       "      <td>120</td>\n",
       "      <td>2004</td>\n",
       "      <td>Sindh</td>\n",
       "    </tr>\n",
       "    <tr>\n",
       "      <th>3rd</th>\n",
       "      <td>90</td>\n",
       "      <td>2006</td>\n",
       "      <td>KPK</td>\n",
       "    </tr>\n",
       "    <tr>\n",
       "      <th>4th</th>\n",
       "      <td>60</td>\n",
       "      <td>2009</td>\n",
       "      <td>Blochistan</td>\n",
       "    </tr>\n",
       "    <tr>\n",
       "      <th>5th</th>\n",
       "      <td>12</td>\n",
       "      <td>2006</td>\n",
       "      <td>Gilgit Baltistan</td>\n",
       "    </tr>\n",
       "  </tbody>\n",
       "</table>\n",
       "</div>"
      ],
      "text/plain": [
       "     Population  Years of Population State of Pakistan\n",
       "1st         220                 2000            Punjab\n",
       "2nd         120                 2004             Sindh\n",
       "3rd          90                 2006               KPK\n",
       "4th          60                 2009        Blochistan\n",
       "5th          12                 2006  Gilgit Baltistan"
      ]
     },
     "execution_count": 45,
     "metadata": {},
     "output_type": "execute_result"
    }
   ],
   "source": [
    "listof = [ 'Punjab','Sindh','KPK','Blochistan','Gilgit Baltistan']\n",
    "pp = [2000,2004,2006,2009,2006] \n",
    "\n",
    "dicData = {\n",
    "        'State of Pakistan' : listof,\n",
    "        'Population' : [220,120,90,60,12],\n",
    "        'Years of Population':     pp         \n",
    "}\n",
    "covFram = pd.DataFrame(dicData,index=['1st','2nd','3rd','4th','5th']\n",
    "                       ,columns=['Population','Years of Population',\n",
    "                                 'State of Pakistan'])\n",
    "print(covFram)\n",
    "covFram.head()"
   ]
  },
  {
   "cell_type": "markdown",
   "metadata": {},
   "source": [
    "# Class No 5 Create the Coloums"
   ]
  },
  {
   "cell_type": "code",
   "execution_count": 48,
   "metadata": {},
   "outputs": [
    {
     "name": "stdout",
     "output_type": "stream",
     "text": [
      "     Population  Years of Population State of Pakistan New Prov.\n",
      "1st         220                 2000            Punjab       NaN\n",
      "2nd         120                 2004             Sindh       NaN\n",
      "3rd          90                 2006               KPK       NaN\n",
      "4th          60                 2009        Blochistan       NaN\n",
      "5th          12                 2006  Gilgit Baltistan       NaN\n"
     ]
    },
    {
     "data": {
      "text/html": [
       "<div>\n",
       "<style scoped>\n",
       "    .dataframe tbody tr th:only-of-type {\n",
       "        vertical-align: middle;\n",
       "    }\n",
       "\n",
       "    .dataframe tbody tr th {\n",
       "        vertical-align: top;\n",
       "    }\n",
       "\n",
       "    .dataframe thead th {\n",
       "        text-align: right;\n",
       "    }\n",
       "</style>\n",
       "<table border=\"1\" class=\"dataframe\">\n",
       "  <thead>\n",
       "    <tr style=\"text-align: right;\">\n",
       "      <th></th>\n",
       "      <th>Population</th>\n",
       "      <th>Years of Population</th>\n",
       "      <th>State of Pakistan</th>\n",
       "      <th>New Prov.</th>\n",
       "    </tr>\n",
       "  </thead>\n",
       "  <tbody>\n",
       "    <tr>\n",
       "      <th>1st</th>\n",
       "      <td>220</td>\n",
       "      <td>2000</td>\n",
       "      <td>Punjab</td>\n",
       "      <td>NaN</td>\n",
       "    </tr>\n",
       "    <tr>\n",
       "      <th>2nd</th>\n",
       "      <td>120</td>\n",
       "      <td>2004</td>\n",
       "      <td>Sindh</td>\n",
       "      <td>NaN</td>\n",
       "    </tr>\n",
       "    <tr>\n",
       "      <th>3rd</th>\n",
       "      <td>90</td>\n",
       "      <td>2006</td>\n",
       "      <td>KPK</td>\n",
       "      <td>NaN</td>\n",
       "    </tr>\n",
       "    <tr>\n",
       "      <th>4th</th>\n",
       "      <td>60</td>\n",
       "      <td>2009</td>\n",
       "      <td>Blochistan</td>\n",
       "      <td>NaN</td>\n",
       "    </tr>\n",
       "    <tr>\n",
       "      <th>5th</th>\n",
       "      <td>12</td>\n",
       "      <td>2006</td>\n",
       "      <td>Gilgit Baltistan</td>\n",
       "      <td>NaN</td>\n",
       "    </tr>\n",
       "  </tbody>\n",
       "</table>\n",
       "</div>"
      ],
      "text/plain": [
       "     Population  Years of Population State of Pakistan New Prov.\n",
       "1st         220                 2000            Punjab       NaN\n",
       "2nd         120                 2004             Sindh       NaN\n",
       "3rd          90                 2006               KPK       NaN\n",
       "4th          60                 2009        Blochistan       NaN\n",
       "5th          12                 2006  Gilgit Baltistan       NaN"
      ]
     },
     "execution_count": 48,
     "metadata": {},
     "output_type": "execute_result"
    }
   ],
   "source": [
    "covFram1 = pd.DataFrame(dicData,index=['1st','2nd','3rd','4th','5th']\n",
    "                       ,columns=['Population','Years of Population',\n",
    "                                 'State of Pakistan','New Prov.'])\n",
    "print(covFram1)\n",
    "covFram1.head()"
   ]
  },
  {
   "cell_type": "code",
   "execution_count": 50,
   "metadata": {},
   "outputs": [
    {
     "data": {
      "text/plain": [
       "Index(['Population', 'Years of Population', 'State of Pakistan', 'New Prov.'], dtype='object')"
      ]
     },
     "execution_count": 50,
     "metadata": {},
     "output_type": "execute_result"
    }
   ],
   "source": [
    "covFram1.columns\n"
   ]
  },
  {
   "cell_type": "code",
   "execution_count": 52,
   "metadata": {},
   "outputs": [
    {
     "data": {
      "text/plain": [
       "Index(['1st', '2nd', '3rd', '4th', '5th'], dtype='object')"
      ]
     },
     "execution_count": 52,
     "metadata": {},
     "output_type": "execute_result"
    }
   ],
   "source": [
    "covFram1.index"
   ]
  },
  {
   "cell_type": "code",
   "execution_count": 67,
   "metadata": {},
   "outputs": [
    {
     "name": "stdout",
     "output_type": "stream",
     "text": [
      "Index(['1st', '2nd', '3rd', '4th', '5th'], dtype='object')\n",
      "Index(['Population', 'Years of Population', 'State of Pakistan', 'New Prov.'], dtype='object')\n"
     ]
    }
   ],
   "source": [
    "print(covFram.index)\n",
    "\n",
    "print(covFram1.columns)"
   ]
  },
  {
   "cell_type": "markdown",
   "metadata": {},
   "source": [
    "# Class 6 ,7 Access Data in DataFrame"
   ]
  },
  {
   "cell_type": "code",
   "execution_count": 70,
   "metadata": {},
   "outputs": [
    {
     "data": {
      "text/plain": [
       "1st    220\n",
       "2nd    120\n",
       "3rd     90\n",
       "4th     60\n",
       "5th     12\n",
       "Name: Population, dtype: int64"
      ]
     },
     "execution_count": 70,
     "metadata": {},
     "output_type": "execute_result"
    }
   ],
   "source": [
    "covFram1['Population']"
   ]
  },
  {
   "cell_type": "code",
   "execution_count": 76,
   "metadata": {},
   "outputs": [
    {
     "data": {
      "text/plain": [
       "1st    220\n",
       "2nd    120\n",
       "3rd     90\n",
       "4th     60\n",
       "5th     12\n",
       "Name: Population, dtype: int64"
      ]
     },
     "execution_count": 76,
     "metadata": {},
     "output_type": "execute_result"
    }
   ],
   "source": [
    "covFram['Population']"
   ]
  },
  {
   "cell_type": "code",
   "execution_count": 78,
   "metadata": {},
   "outputs": [
    {
     "data": {
      "text/plain": [
       "1st    220\n",
       "2nd    120\n",
       "3rd     90\n",
       "4th     60\n",
       "5th     12\n",
       "Name: Population, dtype: int64"
      ]
     },
     "execution_count": 78,
     "metadata": {},
     "output_type": "execute_result"
    }
   ],
   "source": [
    "covFram.Population"
   ]
  },
  {
   "cell_type": "code",
   "execution_count": 83,
   "metadata": {},
   "outputs": [
    {
     "data": {
      "text/plain": [
       "<function print>"
      ]
     },
     "execution_count": 83,
     "metadata": {},
     "output_type": "execute_result"
    }
   ],
   "source": [
    "print "
   ]
  },
  {
   "cell_type": "markdown",
   "metadata": {},
   "source": [
    "# Class 8,9 Access Data in DataFrame"
   ]
  },
  {
   "cell_type": "code",
   "execution_count": 87,
   "metadata": {},
   "outputs": [
    {
     "name": "stdout",
     "output_type": "stream",
     "text": [
      "                  cl1  cl2   cl3  cl4\n",
      "1st            Punjab  220  2000  NaN\n",
      "2nd             Sindh  120  2004  NaN\n",
      "3rd               KPK   90  2006  NaN\n",
      "4th        Blochistan   60  2009  NaN\n",
      "5th  Gilgit Baltistan   12  2006  NaN\n"
     ]
    }
   ],
   "source": [
    "dicData = {\n",
    "        'cl1' : [ 'Punjab','Sindh','KPK','Blochistan','Gilgit Baltistan'],\n",
    "        'cl2' : [220,120,90,60,12],\n",
    "        'cl3': [2000,2004,2006,2009,2006]              \n",
    "}\n",
    "covFram = pd.DataFrame(dicData,index=['1st','2nd','3rd','4th','5th'],columns=['cl1','cl2',\n",
    "                                 'cl3','cl4'])\n",
    "print(covFram)"
   ]
  },
  {
   "cell_type": "markdown",
   "metadata": {},
   "source": [
    "# Class No 9 "
   ]
  },
  {
   "cell_type": "code",
   "execution_count": 95,
   "metadata": {},
   "outputs": [
    {
     "name": "stdout",
     "output_type": "stream",
     "text": [
      "5\n",
      "6.0\n"
     ]
    },
    {
     "data": {
      "text/html": [
       "<div>\n",
       "<style scoped>\n",
       "    .dataframe tbody tr th:only-of-type {\n",
       "        vertical-align: middle;\n",
       "    }\n",
       "\n",
       "    .dataframe tbody tr th {\n",
       "        vertical-align: top;\n",
       "    }\n",
       "\n",
       "    .dataframe thead th {\n",
       "        text-align: right;\n",
       "    }\n",
       "</style>\n",
       "<table border=\"1\" class=\"dataframe\">\n",
       "  <thead>\n",
       "    <tr style=\"text-align: right;\">\n",
       "      <th></th>\n",
       "      <th>cl1</th>\n",
       "      <th>cl2</th>\n",
       "      <th>cl3</th>\n",
       "      <th>cl4</th>\n",
       "    </tr>\n",
       "  </thead>\n",
       "  <tbody>\n",
       "    <tr>\n",
       "      <th>1st</th>\n",
       "      <td>Punjab</td>\n",
       "      <td>220</td>\n",
       "      <td>2000</td>\n",
       "      <td>6.0</td>\n",
       "    </tr>\n",
       "    <tr>\n",
       "      <th>2nd</th>\n",
       "      <td>Sindh</td>\n",
       "      <td>120</td>\n",
       "      <td>2004</td>\n",
       "      <td>6.0</td>\n",
       "    </tr>\n",
       "    <tr>\n",
       "      <th>3rd</th>\n",
       "      <td>KPK</td>\n",
       "      <td>90</td>\n",
       "      <td>2006</td>\n",
       "      <td>6.0</td>\n",
       "    </tr>\n",
       "    <tr>\n",
       "      <th>4th</th>\n",
       "      <td>Blochistan</td>\n",
       "      <td>60</td>\n",
       "      <td>2009</td>\n",
       "      <td>6.0</td>\n",
       "    </tr>\n",
       "    <tr>\n",
       "      <th>5th</th>\n",
       "      <td>Gilgit Baltistan</td>\n",
       "      <td>12</td>\n",
       "      <td>2006</td>\n",
       "      <td>6.0</td>\n",
       "    </tr>\n",
       "  </tbody>\n",
       "</table>\n",
       "</div>"
      ],
      "text/plain": [
       "                  cl1  cl2   cl3  cl4\n",
       "1st            Punjab  220  2000  6.0\n",
       "2nd             Sindh  120  2004  6.0\n",
       "3rd               KPK   90  2006  6.0\n",
       "4th        Blochistan   60  2009  6.0\n",
       "5th  Gilgit Baltistan   12  2006  6.0"
      ]
     },
     "execution_count": 95,
     "metadata": {},
     "output_type": "execute_result"
    }
   ],
   "source": [
    "dicData3 = {\n",
    "        'cl1' : [ 'Punjab','Sindh','KPK','Blochistan','Gilgit Baltistan'],\n",
    "        'cl2' : [220,120,90,60,12],\n",
    "        'cl3': [2000,2004,2006,2009,2006]              \n",
    "}\n",
    "covFram3 = pd.DataFrame(dicData3,index=['1st','2nd','3rd','4th','5th'],columns=['cl1','cl2',\n",
    "                                 'cl3','cl4'])\n",
    "print (len(covFram3))\n",
    "rng = np.array(6.0)\n",
    "print(rng)\n",
    "covFram3['cl4'] = rng\n",
    "covFram3"
   ]
  }
 ],
 "metadata": {
  "kernelspec": {
   "display_name": "Python 3",
   "language": "python",
   "name": "python3"
  },
  "language_info": {
   "codemirror_mode": {
    "name": "ipython",
    "version": 3
   },
   "file_extension": ".py",
   "mimetype": "text/x-python",
   "name": "python",
   "nbconvert_exporter": "python",
   "pygments_lexer": "ipython3",
   "version": "3.8.5"
  }
 },
 "nbformat": 4,
 "nbformat_minor": 4
}
